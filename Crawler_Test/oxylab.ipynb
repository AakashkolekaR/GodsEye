{
 "cells": [
  {
   "cell_type": "code",
   "execution_count": 95,
   "metadata": {},
   "outputs": [
    {
     "name": "stdout",
     "output_type": "stream",
     "text": [
      "XXXXXXXXXXXXXXXXXXXXXXXXXXX\n",
      "['https://buzz.machaao.com/@aditya_chavan', 'https://www.youtube.com/watch?v=j1dMEPuB-XQ', 'https://www.facebook.com/Aditya-Chavan-1538743436432000/', 'https://twitter.com/adichav', 'https://www.facebook.com/adityachavan99/', 'https://www.linkedin.com/in/adityachavan27', 'https://photogrist.com/bird_brilliance-aditya-chavan/', 'YouTube - Feb 6, 2019', 'https://twitter.com/archiadi6', 'YouTube - Dec 29, 2018', 'https://www.youtube.com/watch?v=xEPwXpECgr0', 'https://www.google.com/search?uule=w+CAIQICIGVW5pdGVk&q=Aditya+Chavan&hl=en&gl=US&num=5', 'YouTube - Apr 3, 2019', 'https://www.linkedin.com/in/aditya-chavan-11277079', 'https://www.facebook.com/public/Aditya-Chavan', 'https://www.youtube.com/watch?v=-NE08aFByGU', 'https://www.linkedin.com/pub/dir/Aditya/Chavan', 'https://www.facebook.com/public/Adithya-Chavan']\n",
      "XXXXXXXXXXXXXXXXXXXXXXXXXXX\n"
     ]
    }
   ],
   "source": [
    "import csv\n",
    "from parsel import Selector\n",
    "from time import sleep\n",
    "from selenium import webdriver\n",
    "from selenium.webdriver.common.keys import Keys\n",
    "\n",
    "driver = webdriver.Chrome('chromedriver')\n",
    "driver.maximize_window()\n",
    "sleep(0.5)\n",
    "driver.maximize_window()\n",
    "driver.get('https://oxylabs.io/products/real-time-crawler')\n",
    "\n",
    "keyword = driver.find_element_by_name(\"keyword\")\n",
    "keyword.send_keys('Aditya Chavan')\n",
    "sleep(0.5)\n",
    "\n",
    "keyword.submit()\n",
    "contentString=\"\"\n",
    "while len(contentString)<25:\n",
    "    contentString = driver.find_element_by_tag_name(\"pre\").text\n",
    "\n",
    "driver.quit()\n",
    "\n",
    "#Analysis of contentString\n",
    "url=''\n",
    "source=''\n",
    "for i in range(len(contentString)):\n",
    "    if contentString[i]=='u' and contentString[i+1]=='r' and contentString[i+2]=='l' and contentString[i+3]=='\"' and contentString[i+4]==':':\n",
    "        for j in range(i+7, len(contentString)):\n",
    "            url+=contentString[j]\n",
    "            if contentString[j]=='\"':\n",
    "                break\n",
    "    if contentString[i]=='s' and contentString[i+1]=='o' and contentString[i+2]=='u' and contentString[i+3]=='r' and contentString[i+4]=='c' and contentString[i+5]=='e' and contentString[i+6]=='\"':\n",
    "        for j in range(i+10, len(contentString)):\n",
    "            source+=contentString[j]\n",
    "            if contentString[j]=='\"':\n",
    "                break\n",
    "\n",
    "url=url.split(\"\\\"\")\n",
    "\n",
    "source=source.split('\"')\n",
    "\n",
    "url=url+source\n",
    "z=''\n",
    "url=set(url)\n",
    "url=list(url)\n",
    "url.remove(z)\n",
    "print('XXXXXXXXXXXXXXXXXXXXXXXXXXX')\n",
    "print(url)\n",
    "print('XXXXXXXXXXXXXXXXXXXXXXXXXXX')\n",
    "\n",
    "\n",
    "\n"
   ]
  },
  {
   "cell_type": "code",
   "execution_count": 99,
   "metadata": {
    "collapsed": true
   },
   "outputs": [],
   "source": [
    "#Removing Social Sites\n",
    "urlNoSocial=[]\n",
    "social=['facebook', 'twitter','youtube']\n",
    "for e in url:\n",
    "    for s in social:\n",
    "        if e.find(s)!=-1:\n",
    "            break\n",
    "        urlNoSocial.append(e)\n",
    "        "
   ]
  },
  {
   "cell_type": "code",
   "execution_count": 100,
   "metadata": {},
   "outputs": [
    {
     "data": {
      "text/plain": [
       "['https://buzz.machaao.com/@aditya_chavan',\n",
       " 'https://buzz.machaao.com/@aditya_chavan',\n",
       " 'https://buzz.machaao.com/@aditya_chavan',\n",
       " 'https://www.youtube.com/watch?v=j1dMEPuB-XQ',\n",
       " 'https://www.youtube.com/watch?v=j1dMEPuB-XQ',\n",
       " 'https://twitter.com/adichav',\n",
       " 'https://www.linkedin.com/in/adityachavan27',\n",
       " 'https://www.linkedin.com/in/adityachavan27',\n",
       " 'https://www.linkedin.com/in/adityachavan27',\n",
       " 'https://photogrist.com/bird_brilliance-aditya-chavan/',\n",
       " 'https://photogrist.com/bird_brilliance-aditya-chavan/',\n",
       " 'https://photogrist.com/bird_brilliance-aditya-chavan/',\n",
       " 'YouTube - Feb 6, 2019',\n",
       " 'YouTube - Feb 6, 2019',\n",
       " 'YouTube - Feb 6, 2019',\n",
       " 'https://twitter.com/archiadi6',\n",
       " 'YouTube - Dec 29, 2018',\n",
       " 'YouTube - Dec 29, 2018',\n",
       " 'YouTube - Dec 29, 2018',\n",
       " 'https://www.youtube.com/watch?v=xEPwXpECgr0',\n",
       " 'https://www.youtube.com/watch?v=xEPwXpECgr0',\n",
       " 'https://www.google.com/search?uule=w+CAIQICIGVW5pdGVk&q=Aditya+Chavan&hl=en&gl=US&num=5',\n",
       " 'https://www.google.com/search?uule=w+CAIQICIGVW5pdGVk&q=Aditya+Chavan&hl=en&gl=US&num=5',\n",
       " 'https://www.google.com/search?uule=w+CAIQICIGVW5pdGVk&q=Aditya+Chavan&hl=en&gl=US&num=5',\n",
       " 'YouTube - Apr 3, 2019',\n",
       " 'YouTube - Apr 3, 2019',\n",
       " 'YouTube - Apr 3, 2019',\n",
       " 'https://www.linkedin.com/in/aditya-chavan-11277079',\n",
       " 'https://www.linkedin.com/in/aditya-chavan-11277079',\n",
       " 'https://www.linkedin.com/in/aditya-chavan-11277079',\n",
       " 'https://www.youtube.com/watch?v=-NE08aFByGU',\n",
       " 'https://www.youtube.com/watch?v=-NE08aFByGU',\n",
       " 'https://www.linkedin.com/pub/dir/Aditya/Chavan',\n",
       " 'https://www.linkedin.com/pub/dir/Aditya/Chavan',\n",
       " 'https://www.linkedin.com/pub/dir/Aditya/Chavan']"
      ]
     },
     "execution_count": 100,
     "metadata": {},
     "output_type": "execute_result"
    }
   ],
   "source": [
    "urlNoSocial"
   ]
  },
  {
   "cell_type": "code",
   "execution_count": null,
   "metadata": {
    "collapsed": true
   },
   "outputs": [],
   "source": []
  }
 ],
 "metadata": {
  "kernelspec": {
   "display_name": "Python 3",
   "language": "python",
   "name": "python3"
  },
  "language_info": {
   "codemirror_mode": {
    "name": "ipython",
    "version": 3
   },
   "file_extension": ".py",
   "mimetype": "text/x-python",
   "name": "python",
   "nbconvert_exporter": "python",
   "pygments_lexer": "ipython3",
   "version": "3.6.3"
  }
 },
 "nbformat": 4,
 "nbformat_minor": 2
}
