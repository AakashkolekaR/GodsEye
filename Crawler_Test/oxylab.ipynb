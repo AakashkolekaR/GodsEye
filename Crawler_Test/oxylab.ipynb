{
 "cells": [
  {
   "cell_type": "code",
   "execution_count": 1,
   "metadata": {
    "collapsed": true
   },
   "outputs": [],
   "source": [
    "import csv\n",
    "from parsel import Selector\n",
    "from time import sleep\n",
    "from selenium import webdriver\n",
    "from selenium.webdriver.common.keys import Keys\n",
    "\n"
   ]
  },
  {
   "cell_type": "code",
   "execution_count": 7,
   "metadata": {},
   "outputs": [
    {
     "name": "stdout",
     "output_type": "stream",
     "text": [
      "XXXXXXXXXXXXXXXXXXXXXXXXXXXXXXXX\n",
      "        \n",
      "        {\n",
      " \"results\": [\n",
      "  {\n",
      "   \"content\": {\n",
      "    \"url\": \"https://www.google.com/search?uule=w+CAIQICIGVW5pdGVk&q=Aditya+Chavan&hl=en&gl=US&num=5\",\n",
      "    \"page\": 1,\n",
      "    \"results\": {\n",
      "     \"paid\": [],\n",
      "     \"images\": [\n",
      "      {\n",
      "       \"alt\": \"Image result for Aditya Chavan\",\n",
      "       \"href\": \"/search?q=Aditya+Chavan&num=5&hl=en&gl=US&tbm=isch&source=iu&ictx=1&fir=hFv6X85YS4r61M%253A%252CqA266ChiRLd_MM%252C_&vet=1&usg=AI4_-kTKdFIGsOHZ-fX9ZYhLvPSLgWAkZw&sa=X&ved=2ahUKEwiO6fOiqpznAhWHWM0KHSeXDzwQ9QEwB3oECAQQBQ#imgrc=hFv6X85YS4r61M:\",\n",
      "       \"source\": \"https://twitter.com/adichav\"\n",
      "      },\n",
      "      {\n",
      "       \"alt\": \"Image result for Aditya Chavan\",\n",
      "       \"href\": \"/search?q=Aditya+Chavan&num=5&hl=en&gl=US&tbm=isch&source=iu&ictx=1&fir=_m3NzEkCBsd9ZM%253A%252Chrqj6PtOUMmP1M%252C_&vet=1&usg=AI4_-kRcwvO7CymzNjMPuyid94MTC6LVCQ&sa=X&ved=2ahUKEwiO6fOiqpznAhWHWM0KHSeXDzwQ9QEwCHoECAQQBw#imgrc=_m3NzEkCBsd9ZM:\",\n",
      "       \"source\": \"https://buzz.machaao.com/@aditya_chavan\"\n",
      "      },\n",
      "      {\n",
      "       \"alt\": \"Image result for Aditya Chavan\",\n",
      "       \"href\": \"/search?q=Aditya+Chavan&num=5&hl=en&gl=US&tbm=isch&source=iu&ictx=1&fir=FUveAROYI_T6JM%253A%252ChrA2p_LyJjJl1M%252C_&vet=1&usg=AI4_-kSksDPmsuMl0A0Iw2lu8Jk5jc8x6w&sa=X&ved=2ahUKEwiO6fOiqpznAhWHWM0KHSeXDzwQ9QEwCXoECAQQCQ#imgrc=FUveAROYI_T6JM:\",\n",
      "       \"source\": \"https://www.linkedin.com/in/aditya-chavan-11277079\"\n",
      "      },\n",
      "      {\n",
      "       \"alt\": \"Image result for Aditya Chavan\",\n",
      "       \"href\": \"/search?q=Aditya+Chavan&num=5&hl=en&gl=US&tbm=isch&source=iu&ictx=1&fir=-U3Ef4uDjKs7GM%253A%252CKwg4OBkxgYiKiM%252C_&vet=1&usg=AI4_-kQn5svePIevr2YuwM0wULMZyIEqUw&sa=X&ved=2ahUKEwiO6fOiqpznAhWHWM0KHSeXDzwQ9QEwCnoECAQQCw#imgrc=-U3Ef4uDjKs7GM:\",\n",
      "       \"source\": \"https://twitter.com/achavan87\"\n",
      "      },\n",
      "      {\n",
      "       \"alt\": \"Image result for Aditya Chavan\",\n",
      "       \"href\": \"/search?q=Aditya+Chavan&num=5&hl=en&gl=US&tbm=isch&source=iu&ictx=1&fir=oCtYybryxTOGIM%253A%252Ciu0QQiqR415SYM%252C_&vet=1&usg=AI4_-kRqzR6_DCzPWBlmE8ohX-_GYeOYaQ&sa=X&ved=2ahUKEwiO6fOiqpznAhWHWM0KHSeXDzwQ9QEwC3oECAQQDQ#imgrc=oCtYybryxTOGIM:\",\n",
      "       \"source\": \"https://www.facebook.com/adityachavan99/\"\n",
      "      },\n",
      "      {\n",
      "       \"alt\": \"Image result for Aditya Chavan\",\n",
      "       \"href\": \"/search?q=Aditya+Chavan&num=5&hl=en&gl=US&tbm=isch&source=iu&ictx=1&fir=oNL_9vhrg50l0M%253A%252CcTKDyLBFDuZNWM%252C_&vet=1&usg=AI4_-kQaWjh72_rF7ee7eCDz_X2pzBZEmQ&sa=X&ved=2ahUKEwiO6fOiqpznAhWHWM0KHSeXDzwQ9QEwDHoECAQQDw#imgrc=oNL_9vhrg50l0M:\",\n",
      "       \"source\": \"https://www.youtube.com/channel/UCX2rTpjZ2K8VU1YW-ZvIjJQ\"\n",
      "      },\n",
      "      {\n",
      "       \"alt\": \"Image result for Aditya Chavan\",\n",
      "       \"href\": \"/search?q=Aditya+Chavan&num=5&hl=en&gl=US&tbm=isch&source=iu&ictx=1&fir=3MJACWI4efmGCM%253A%252CPiftjb5jMWldoM%252C_&vet=1&usg=AI4_-kSqbMmvpQrlGupOiLD2gwR4U2zFrw&sa=X&ved=2ahUKEwiO6fOiqpznAhWHWM0KHSeXDzwQ9QEwDXoECAQQEQ#imgrc=3MJACWI4efmGCM:\",\n",
      "       \"source\": \"https://www.facebook.com/Aditya-Chavan-1538743436432000/\"\n",
      "      },\n",
      "      {\n",
      "       \"alt\": \"Image result for Aditya Chavan\",\n",
      "       \"href\": \"/search?q=Aditya+Chavan&num=5&hl=en&gl=US&tbm=isch&source=iu&ictx=1&fir=x_rHcux5s7heSM%253A%252Ce927TcFttUq1tM%252C_&vet=1&usg=AI4_-kSZA-r3tNXyBvay1459LEZ6vgnKKQ&sa=X&ved=2ahUKEwiO6fOiqpznAhWHWM0KHSeXDzwQ9QEwDnoECAQQEw#imgrc=x_rHcux5s7heSM:\",\n",
      "       \"source\": \"https://www.linkedin.com/in/adityachavan27\"\n",
      "      },\n",
      "      {\n",
      "       \"alt\": \"Image result for Aditya Chavan\",\n",
      "       \"href\": \"/search?q=Aditya+Chavan&num=5&hl=en&gl=US&tbm=isch&source=iu&ictx=1&fir=UYznmH6mf--2XM%253A%252CtVghIoA1_8DqjM%252C_&vet=1&usg=AI4_-kRSvHSZ0c3UVCjf1lnnNr4kIIQeoA&sa=X&ved=2ahUKEwiO6fOiqpznAhWHWM0KHSeXDzwQ9QEwD3oECAQQFQ#imgrc=UYznmH6mf--2XM:\",\n",
      "       \"source\": \"https://photogrist.com/bird_brilliance-aditya-chavan/\"\n",
      "      },\n",
      "      {\n",
      "       \"alt\": \"Image result for Aditya Chavan\",\n",
      "       \"href\": \"/search?q=Aditya+Chavan&num=5&hl=en&gl=US&tbm=isch&source=iu&ictx=1&fir=HGOgnluSNurQhM%253A%252CjkvKW1EKKDI8KM%252C_&vet=1&usg=AI4_-kTnnGqPqB9iHxXl8cdUV9-zknGTXw&sa=X&ved=2ahUKEwiO6fOiqpznAhWHWM0KHSeXDzwQ9QEwEHoECAQQFw#imgrc=HGOgnluSNurQhM:\",\n",
      "       \"source\": \"https://twitter.com/archiadi6\"\n",
      "      }\n",
      "     ],\n",
      "     \"videos\": [\n",
      "      {\n",
      "       \"url\": \"https://www.youtube.com/watch?v=j1dMEPuB-XQ\",\n",
      "       \"title\": \"ADITYA CHAVAN - MY YEAR 2018\",\n",
      "       \"author\": \"Aditya Chavan\",\n",
      "       \"source\": \"YouTube - Dec 29, 2018\"\n",
      "      },\n",
      "      {\n",
      "       \"url\": \"https://www.youtube.com/watch?v=xEPwXpECgr0\",\n",
      "       \"title\": \"आई चा धाक एकदम कडक - Aditya Chavan - Marathi Stand Up ...\",\n",
      "       \"author\": \"Tumcha Aamcha Jamla\",\n",
      "       \"source\": \"YouTube - Feb 6, 2019\"\n",
      "      },\n",
      "      {\n",
      "       \"url\": \"https://www.youtube.com/watch?v=-NE08aFByGU\",\n",
      "       \"title\": \"मुलींचा मास्टर प्लान आणि मेल बेस्ट फ्रेंड ...\",\n",
      "       \"author\": \"Tumcha Aamcha Jamla\",\n",
      "       \"source\": \"YouTube - Apr 3, 2019\"\n",
      "      }\n",
      "     ],\n",
      "     \"organic\": [\n",
      "      {\n",
      "       \"pos\": 1,\n",
      "       \"url\": \"https://www.facebook.com/public/Aditya-Chavan\",\n",
      "       \"desc\": \"People named Aditya Chavan. ... Log in or sign up for Facebook to connect with friends, family and people you know. ... A.G. Junior College of Science,Dapoli,Ratnagiri.\",\n",
      "       \"title\": \"Aditya Chavan Profiles | Facebook\",\n",
      "       \"url_shown\": \"www.facebook.com › public › Aditya-Chavan\",\n",
      "       \"pos_overall\": 1\n",
      "      },\n",
      "      {\n",
      "       \"pos\": 2,\n",
      "       \"url\": \"https://www.facebook.com/public/Adithya-Chavan\",\n",
      "       \"desc\": \"View the profiles of people named Adithya Chavan. Join Facebook to connect with Adithya Chavan and others you may know. Facebook gives people the power ...\",\n",
      "       \"title\": \"Adithya Chavan Profiles | Facebook\",\n",
      "       \"url_shown\": \"www.facebook.com › public › Adithya-Chavan\",\n",
      "       \"pos_overall\": 2\n",
      "      },\n",
      "      {\n",
      "       \"pos\": 3,\n",
      "       \"url\": \"https://www.linkedin.com/pub/dir/Aditya/Chavan\",\n",
      "       \"desc\": \"Pentest | SOC Analyst | Je recherche un stage/CDI en cybersécurité à partir de mars 2020. ... École pour l'Informatique et les Techniques Avancées, +3 more. ... Symbiosis Institute Of Media And Communication, Pune, +2 more.\",\n",
      "       \"title\": \"200+ \\\"Aditya Chavan\\\" profiles | LinkedIn\",\n",
      "       \"url_shown\": \"www.linkedin.com › pub › dir › Aditya › Chavan\",\n",
      "       \"pos_overall\": 3\n",
      "      }\n",
      "     ],\n",
      "     \"search_information\": {\n",
      "      \"query\": \"Aditya Chavan\",\n",
      "      \"showing_results_for\": \"Aditya Chavan\",\n",
      "      \"total_results_count\": 2090000\n",
      "     },\n",
      "     \"total_results_count\": 2090000\n",
      "    },\n",
      "    \"last_visible_page\": 10,\n",
      "    \"parse_status_code\": 12000\n",
      "   },\n",
      "   \"created_at\": \"2020-01-24 13:21:56\",\n",
      "   \"updated_at\": \"2020-01-24 13:21:58\",\n",
      "   \"id\": 177961151,\n",
      "   \"page\": 1,\n",
      "   \"url\": \"https://www.google.com/search?uule=w+CAIQICIGVW5pdGVk&q=Aditya+Chavan&hl=en&gl=US&num=5\",\n",
      "   \"job_id\": \"6626463937745398785\",\n",
      "   \"status_code\": 200\n",
      "  }\n",
      " ]\n",
      "}\n",
      "    \n",
      "XXXXXXXXXXXXXXXXXXXXXXXXXXXXXXXX\n"
     ]
    }
   ],
   "source": [
    "driver = webdriver.Chrome('chromedriver')\n",
    "driver.maximize_window()\n",
    "driver.get('https://oxylabs.io/products/real-time-crawler')\n",
    "\n",
    "keyword = driver.find_element_by_name(\"keyword\")\n",
    "keyword.send_keys('Aditya Chavan')\n",
    "sleep(0.5)\n",
    "\n",
    "keyword.submit()\n",
    "sleep(10)\n",
    "contentString = driver.find_element_by_tag_name(\"pre\").text\n",
    "\n",
    "driver.quit()"
   ]
  },
  {
   "cell_type": "code",
   "execution_count": 6,
   "metadata": {},
   "outputs": [
    {
     "data": {
      "text/plain": [
       "'        \\n        \\n    '"
      ]
     },
     "execution_count": 6,
     "metadata": {},
     "output_type": "execute_result"
    }
   ],
   "source": [
    "contentString"
   ]
  },
  {
   "cell_type": "code",
   "execution_count": 8,
   "metadata": {
    "collapsed": true
   },
   "outputs": [],
   "source": [
    "import json"
   ]
  },
  {
   "cell_type": "code",
   "execution_count": 9,
   "metadata": {
    "collapsed": true
   },
   "outputs": [],
   "source": [
    "contentJSON = json.loads(contentString)"
   ]
  },
  {
   "cell_type": "code",
   "execution_count": 11,
   "metadata": {},
   "outputs": [
    {
     "data": {
      "text/plain": [
       "'https://www.google.com/search?uule=w+CAIQICIGVW5pdGVk&q=Aditya+Chavan&hl=en&gl=US&num=5'"
      ]
     },
     "execution_count": 11,
     "metadata": {},
     "output_type": "execute_result"
    }
   ],
   "source": [
    "contentJSON['results'][0]['url']"
   ]
  }
 ],
 "metadata": {
  "kernelspec": {
   "display_name": "Python 3",
   "language": "python",
   "name": "python3"
  },
  "language_info": {
   "codemirror_mode": {
    "name": "ipython",
    "version": 3
   },
   "file_extension": ".py",
   "mimetype": "text/x-python",
   "name": "python",
   "nbconvert_exporter": "python",
   "pygments_lexer": "ipython3",
   "version": "3.6.3"
  }
 },
 "nbformat": 4,
 "nbformat_minor": 2
}
