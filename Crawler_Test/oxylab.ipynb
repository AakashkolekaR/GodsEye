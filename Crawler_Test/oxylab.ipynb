{
 "cells": [
  {
   "cell_type": "code",
   "execution_count": null,
   "metadata": {},
   "outputs": [],
   "source": [
    "import csv\n",
    "from parsel import Selector\n",
    "from time import sleep\n",
    "from selenium import webdriver\n",
    "from selenium.webdriver.common.keys import Keys\n",
    "\n",
    "driver = webdriver.Chrome('chromedriver')\n",
    "driver.maximize_window()\n",
    "sleep(0.5)\n",
    "driver.maximize_window()\n",
    "driver.get('https://oxylabs.io/products/real-time-crawler')\n",
    "\n",
    "keyword = driver.find_element_by_name(\"keyword\")\n",
    "keyword.send_keys('')\n",
    "sleep(0.5)\n",
    "\n",
    "keyword.submit()\n",
    "contentString=\"\"\n",
    "while len(contentString)<25:\n",
    "    contentString = driver.find_element_by_tag_name(\"pre\").text\n",
    "\n",
    "driver.quit()\n",
    "\n",
    "#Analysis of contentString\n",
    "url=''\n",
    "source=''\n",
    "for i in range(len(contentString)):\n",
    "    if contentString[i]=='u' and contentString[i+1]=='r' and contentString[i+2]=='l' and contentString[i+3]=='\"' and contentString[i+4]==':':\n",
    "        for j in range(i+7, len(contentString)):\n",
    "            url+=contentString[j]\n",
    "            if contentString[j]=='\"':\n",
    "                break\n",
    "    if contentString[i]=='s' and contentString[i+1]=='o' and contentString[i+2]=='u' and contentString[i+3]=='r' and contentString[i+4]=='c' and contentString[i+5]=='e' and contentString[i+6]=='\"':\n",
    "        for j in range(i+10, len(contentString)):\n",
    "            source+=contentString[j]\n",
    "            if contentString[j]=='\"':\n",
    "                break\n",
    "\n",
    "url=url.split(\"\\\"\")\n",
    "\n",
    "source=source.split('\"')\n",
    "\n",
    "url=url+source\n",
    "z=''\n",
    "url=set(url)\n",
    "url=list(url)\n",
    "url.remove(z)\n",
    "print('XXXXXXXXXXXXXXXXXXXXXXXXXXX')\n",
    "print(url)\n",
    "print('XXXXXXXXXXXXXXXXXXXXXXXXXXX')\n",
    "\n",
    "\n",
    "\n"
   ]
  },
  {
   "cell_type": "code",
   "execution_count": null,
   "metadata": {},
   "outputs": [],
   "source": [
    "#Removing Social Sites\n",
    "urlNoSocial=[]\n",
    "social=['facebook', 'twitter','youtube']\n",
    "for e in url:\n",
    "    for s in social:\n",
    "        if e.find(s)!=-1:\n",
    "            break\n",
    "        urlNoSocial.append(e)\n",
    "        "
   ]
  },
  {
   "cell_type": "code",
   "execution_count": null,
   "metadata": {},
   "outputs": [],
   "source": [
    "urlNoSocial"
   ]
  },
  {
   "cell_type": "code",
   "execution_count": null,
   "metadata": {},
   "outputs": [],
   "source": []
  }
 ],
 "metadata": {
  "kernelspec": {
   "display_name": "Python 3",
   "language": "python",
   "name": "python3"
  },
  "language_info": {
   "codemirror_mode": {
    "name": "ipython",
    "version": 3
   },
   "file_extension": ".py",
   "mimetype": "text/x-python",
   "name": "python",
   "nbconvert_exporter": "python",
   "pygments_lexer": "ipython3",
   "version": "3.7.6"
  }
 },
 "nbformat": 4,
 "nbformat_minor": 2
}
